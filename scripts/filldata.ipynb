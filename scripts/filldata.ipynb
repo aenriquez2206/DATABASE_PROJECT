{
 "cells": [
  {
   "cell_type": "markdown",
   "id": "4d790bc0",
   "metadata": {},
   "source": [
    "# Generacion de scripts para llenado de datos en las tablas "
   ]
  },
  {
   "cell_type": "markdown",
   "id": "3460b45e",
   "metadata": {},
   "source": [
    "## llenar tabla"
   ]
  },
  {
   "cell_type": "code",
   "execution_count": null,
   "id": "05c3b39a",
   "metadata": {
    "vscode": {
     "languageId": "plaintext"
    }
   },
   "outputs": [],
   "source": []
  }
 ],
 "metadata": {
  "language_info": {
   "name": "python"
  }
 },
 "nbformat": 4,
 "nbformat_minor": 5
}
