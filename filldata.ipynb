{
 "cells": [
  {
   "cell_type": "markdown",
   "id": "4d790bc0",
   "metadata": {},
   "source": [
    "# Generacion de scripts para llenado de datos en las tablas "
   ]
  },
  {
   "cell_type": "markdown",
   "id": "3460b45e",
   "metadata": {},
   "source": [
    "## llenar tabla"
   ]
  },
  {
   "cell_type": "code",
   "execution_count": 1,
   "id": "7a424e78",
   "metadata": {},
   "outputs": [],
   "source": [
    "import pandas as pd\n",
    "import numpy as np\n",
    "import faker\n",
    "from faker import Faker\n",
    "from database import Database\n",
    "\n",
    "db = Database()"
   ]
  },
  {
   "cell_type": "markdown",
   "id": "6558649a",
   "metadata": {},
   "source": [
    "Alumnos nuevos con faker"
   ]
  },
  {
   "cell_type": "code",
   "execution_count": 2,
   "id": "5e05b8d9",
   "metadata": {},
   "outputs": [],
   "source": [
    "fake = Faker('es_ES')"
   ]
  },
  {
   "cell_type": "code",
   "execution_count": null,
   "id": "74795763",
   "metadata": {},
   "outputs": [],
   "source": [
    "\n",
    "i = 0\n",
    "id = 1\n",
    "text = '--migrate:up \\n\\n'\n",
    "\n",
    "while(i<100):\n",
    "    i=i+1\n",
    "    codigo = fake.bothify(text='########')\n",
    "    text += f\"INSERT INTO alumnos (id, código) VALUES ({id}, {codigo});\\n\"\n",
    "    id = id+1\n",
    "\n",
    "text += '\\n--migrate:down \\n\\nDELETE FROM posiciones;'\n",
    "\n",
    "with open('inserts_alumnos.sql', 'w', encoding=\"utf-8\") as archivo:\n",
    "    archivo.write(text)"
   ]
  },
  {
   "cell_type": "markdown",
   "id": "877e26a3",
   "metadata": {},
   "source": [
    "Creacion de distritos"
   ]
  },
  {
   "cell_type": "code",
   "execution_count": 9,
   "id": "22335f8c",
   "metadata": {},
   "outputs": [],
   "source": [
    "id = 1\n",
    "text = '--migrate:up \\n\\n'\n",
    "dicc_distritos = [\"Ancón\", \"Ate\", \"Barranco\", \"Breña\", \"Carabayllo\", \"Chaclacayo\", \"Chorrillos\", \"Cieneguilla\", \"Comas\", \"El Agustino\", \"Independencia\", \"Jesús María\",\n",
    "                  \"La Molina\", \"La Victoria\", \"Lince\", \"Los Olivos\", \"Lurigancho\", \"Lurín\", \"Magdalena del Mar\", \"Miraflores\", \"Pachacámac\", \"Pucusana\", \"Pueblo Libre\",\n",
    "                  \"Puente Piedra\", \"Punta Hermosa\", \"Punta Negra\", \"Rímac\", \"San Bartolo\", \"San Borja\", \"San Isidro\", \"San Juan de Lurigancho\", \"San Juan de Miraflores\",\n",
    "                  \"San Luis\", \"San Martín de Porres\", \"San Miguel\", \"Santa Anita\", \"Santa María del Mar\", \"Santa Rosa\", \"Santiago de Surco\", \"Surquillo\", \"Villa El Salvador\",\n",
    "                  \"Villa María del Triunfo\"]\n",
    "\n",
    "for nombre in dicc_distritos:\n",
    "    text += f\"INSERT INTO distritos (id, nombre) VALUES ({id}, '{nombre}');\\n\"\n",
    "    id += 1\n",
    "\n",
    "text += '\\n--migrate:down \\n\\nDELETE FROM distritos;'\n",
    "\n",
    "with open('inserts_distritos.sql', 'w', encoding=\"utf-8\") as archivo:\n",
    "    archivo.write(text)\n"
   ]
  },
  {
   "cell_type": "markdown",
   "id": "c481c87d",
   "metadata": {},
   "source": [
    "Creacion de notificaciones"
   ]
  },
  {
   "cell_type": "code",
   "execution_count": null,
   "id": "70377265",
   "metadata": {},
   "outputs": [],
   "source": [
    "i = 0\n",
    "id = 1\n",
    "text = '--migrate:up \\n\\n'\n",
    "\n",
    "while(i<5):\n",
    "    i=i+1\n",
    "    valor_booleano = fake.boolean() \n",
    "    nombre_notificaciones = fake.sentence(nb_words=4)\n",
    "    text += f\"INSERT INTO notificaciones (id, estado, nombre) VALUES ({id}, {valor_booleano}, '{nombre_notificaciones}');\\n\"\n",
    "    id = id+1\n",
    "\n",
    "text += '\\n--migrate:down \\n\\nDELETE FROM notificaciones;'\n",
    "\n",
    "with open('inserts_notificaciones.sql', 'w', encoding=\"utf-8\") as archivo:\n",
    "    archivo.write(text)\n"
   ]
  },
  {
   "cell_type": "markdown",
   "id": "a775e550",
   "metadata": {},
   "source": [
    "Creacion redes_de_pago"
   ]
  },
  {
   "cell_type": "code",
   "execution_count": null,
   "id": "bc5a2bbf",
   "metadata": {},
   "outputs": [],
   "source": [
    "id = 1\n",
    "text = '--migrate:up \\n\\n'\n",
    "dicc_bancos = [\"Visa\",\"Mastercard\",\"American Express\",\"Discover\"]\n",
    "\n",
    "for nombre in dicc_bancos:\n",
    "    text += f\"INSERT INTO red_pagos (id, nombre) VALUES ({id}, '{nombre}');\\n\"\n",
    "    id += 1\n",
    "\n",
    "text += '\\n--migrate:down \\n\\nDELETE FROM red_pagos;'\n",
    "\n",
    "with open('inserts_red_pagos.sql', 'w', encoding=\"utf-8\") as archivo:\n",
    "    archivo.write(text)"
   ]
  },
  {
   "cell_type": "markdown",
   "id": "ede2847d",
   "metadata": {},
   "source": [
    "Creacion de nombres de bancos"
   ]
  },
  {
   "cell_type": "code",
   "execution_count": null,
   "id": "79ad8696",
   "metadata": {},
   "outputs": [],
   "source": [
    "i = 0\n",
    "id = 1\n",
    "text = '--migrate:up \\n\\n'\n",
    "\n",
    "while(i<15):\n",
    "    i=i+1\n",
    "    banco = fake.company()\n",
    "    text += f\"INSERT INTO bancos (id, nombre) VALUES ({id}, '{banco}');\\n\"\n",
    "    id = id+1\n",
    "\n",
    "text += '\\n--migrate:down \\n\\nDELETE FROM bancos;'\n",
    "\n",
    "with open('inserts_bancos.sql', 'w', encoding=\"utf-8\") as archivo:\n",
    "    archivo.write(text)"
   ]
  },
  {
   "cell_type": "markdown",
   "id": "583c4fd8",
   "metadata": {},
   "source": [
    "Creacion de perfiles"
   ]
  },
  {
   "cell_type": "code",
   "execution_count": 3,
   "id": "d3e447aa",
   "metadata": {},
   "outputs": [],
   "source": [
    "import random\n",
    "from random import randint"
   ]
  },
  {
   "cell_type": "code",
   "execution_count": null,
   "id": "ef209280",
   "metadata": {},
   "outputs": [],
   "source": [
    "\n",
    "i = 0\n",
    "id = 1\n",
    "text = '--migrate:up \\n\\n'\n",
    "\n",
    "while(i<100):\n",
    "    i=i+1\n",
    "    user_id = fake.bothify(text='#######')\n",
    "    celular = fake.numerify('9########')\n",
    "    celular_sin_mas= celular.replace(\"+\", \"\")\n",
    "    dni = random.randint(10000000, 99999999)\n",
    "    nombre = fake.first_name()\n",
    "    apellidos = fake.last_name()\n",
    "    fecha_nacimiento = fake.date_of_birth(minimum_age=18, maximum_age=65)\n",
    "    correo = fake.email()\n",
    "    contrasena = fake.password()\n",
    "    text += f\"INSERT INTO perfiles (id, user_id, celular, DNI, nombre, apellidos, fecha_nacimiento, correo, contraseña) VALUES ({id}, {user_id},{celular},{dni},'{nombre}','{apellidos}',{fecha_nacimiento},'{correo}','{contrasena}');\\n\"\n",
    "    id = id+1\n",
    "\n",
    "text += '\\n--migrate:down \\n\\nDELETE FROM perfiles;'\n",
    "\n",
    "with open('inserts_perfiles.sql', 'w', encoding=\"utf-8\") as archivo:\n",
    "    archivo.write(text)"
   ]
  },
  {
   "cell_type": "markdown",
   "id": "0b77ee83",
   "metadata": {},
   "source": [
    "Creacion de nombres de app billeteras digitales"
   ]
  },
  {
   "cell_type": "code",
   "execution_count": 33,
   "id": "c5a6659e",
   "metadata": {},
   "outputs": [],
   "source": [
    "id = 1\n",
    "text = '--migrate:up \\n\\n'\n",
    "dicc_nombre_app_billeteras_digitales = [\"Yape\",\"Plin\"]\n",
    "\n",
    "for nombre in dicc_nombre_app_billeteras_digitales:\n",
    "    text += f\"INSERT INTO nombre_app_billeteras_digitales (id, nombre) VALUES ({id}, '{nombre}');\\n\"\n",
    "    id += 1\n",
    "\n",
    "text += '\\n--migrate:down \\n\\nDELETE FROM nombre_app_billeteras_digitales;'\n",
    "\n",
    "with open('inserts_nombre_app_billeteras_digitales.sql', 'w', encoding=\"utf-8\") as archivo:\n",
    "    archivo.write(text)"
   ]
  },
  {
   "cell_type": "markdown",
   "id": "2952abb1",
   "metadata": {},
   "source": [
    "Creacion de estaciones"
   ]
  },
  {
   "cell_type": "code",
   "execution_count": 40,
   "id": "c5b34555",
   "metadata": {},
   "outputs": [],
   "source": [
    "i = 0\n",
    "id = 1\n",
    "text = '--migrate:up \\n\\n'\n",
    "\n",
    "while(i<100):\n",
    "    i=i+1\n",
    "    estacion = fake.word().capitalize()\n",
    "    id_distrito = randint(1, 42)\n",
    "    text += f\"INSERT INTO estaciones (id, nombre, id_distrito) VALUES ({id}, '{estacion}', {id_distrito});\\n\"\n",
    "    id = id+1\n",
    "\n",
    "text += '\\n--migrate:down \\n\\nDELETE FROM estaciones;'\n",
    "\n",
    "with open('inserts_estaciones.sql', 'w', encoding=\"utf-8\") as archivo:\n",
    "    archivo.write(text)"
   ]
  },
  {
   "cell_type": "markdown",
   "id": "b59d6a6d",
   "metadata": {},
   "source": [
    "Creacion tarjeta de corredor"
   ]
  },
  {
   "cell_type": "code",
   "execution_count": 42,
   "id": "73e9d212",
   "metadata": {},
   "outputs": [],
   "source": [
    "i = 0\n",
    "id = 1\n",
    "text = '--migrate:up \\n\\n'\n",
    "\n",
    "while(i<100):\n",
    "    i=i+1\n",
    "    id_tarjeta_fisica = fake.bothify(text='########')\n",
    "    id_perfil = id\n",
    "    text += f\"INSERT INTO tarjetas_corredor (id, id_tarjeta_fisica, id_perfil) VALUES ({id}, {id_tarjeta_fisica}, {id_perfil});\\n\"\n",
    "    id = id+1\n",
    "\n",
    "text += '\\n--migrate:down \\n\\nDELETE FROM tarjetas_corredor;'\n",
    "\n",
    "with open('inserts_tarjetas_corredor.sql', 'w', encoding=\"utf-8\") as archivo:\n",
    "    archivo.write(text)"
   ]
  },
  {
   "cell_type": "markdown",
   "id": "d2b560f9",
   "metadata": {},
   "source": [
    "Inserccion de nombre_metodo_pagos (actualizacion este no va)"
   ]
  },
  {
   "cell_type": "code",
   "execution_count": 45,
   "id": "2770d3f7",
   "metadata": {},
   "outputs": [],
   "source": [
    "id = 1\n",
    "text = '--migrate:up \\n\\n'\n",
    "nombre_metodo_pagos = [\"app_billetera_digital\",\"tarjeta\"]\n",
    "\n",
    "for nombre in nombre_metodo_pagos:\n",
    "    text += f\"INSERT INTO nombre_metodo_pagos (id, nombre) VALUES ({id}, '{nombre}');\\n\"\n",
    "    id += 1\n",
    "\n",
    "text += '\\n--migrate:down \\n\\nDELETE FROM nombre_metodo_pagos;'\n",
    "\n",
    "with open('inserts_nombre_metodo_pagos.sql', 'w', encoding=\"utf-8\") as archivo:\n",
    "    archivo.write(text)"
   ]
  },
  {
   "cell_type": "markdown",
   "id": "1c132a9c",
   "metadata": {},
   "source": [
    "Inserccion de metodo_pagos"
   ]
  },
  {
   "cell_type": "code",
   "execution_count": 7,
   "id": "4ff03c45",
   "metadata": {},
   "outputs": [],
   "source": [
    "i = 0\n",
    "id = 1\n",
    "text = '--migrate:up \\n\\n'\n",
    "\n",
    "while(i<100):\n",
    "    i=i+1\n",
    "    id_banco = random.randint(1, 15)\n",
    "    id_perfil = id\n",
    "    text += f\"INSERT INTO metodo_pagos (id, id_banco, id_perfil) VALUES ({id}, {id_banco}, {id_perfil});\\n\"\n",
    "    id = id + 1\n",
    "text += '\\n--migrate:down \\n\\nDELETE FROM metodo_pagos;'\n",
    "\n",
    "with open('inserts_metodo_pagos.sql', 'w', encoding=\"utf-8\") as archivo:\n",
    "    archivo.write(text)"
   ]
  },
  {
   "cell_type": "markdown",
   "id": "c6cc77cf",
   "metadata": {},
   "source": [
    "Inserccion de tarjetas_universitarias"
   ]
  },
  {
   "cell_type": "code",
   "execution_count": 9,
   "id": "315d64b2",
   "metadata": {},
   "outputs": [],
   "source": [
    "i = 0\n",
    "id = 1\n",
    "text = '--migrate:up \\n\\n'\n",
    "\n",
    "while(i<100):\n",
    "    i=i+1\n",
    "    id_tarjeta_corredor = random.randint(1, 100)\n",
    "    id_alumno = random.randint(1, 100)\n",
    "    text += f\"INSERT INTO tarjetas_universitario (id, id_tarjeta_corredor, id_alumno) VALUES ({id}, {id_tarjeta_corredor}, {id_alumno});\\n\"\n",
    "    id = id + 1\n",
    "text += '\\n--migrate:down \\n\\nDELETE FROM tarjetas_universitario;'\n",
    "\n",
    "with open('inserts_tarjetas_universitario.sql', 'w', encoding=\"utf-8\") as archivo:\n",
    "    archivo.write(text)"
   ]
  },
  {
   "cell_type": "markdown",
   "id": "8f838322",
   "metadata": {},
   "source": [
    "Inserccion de tajetas_general"
   ]
  },
  {
   "cell_type": "code",
   "execution_count": 10,
   "id": "3cb8f4fb",
   "metadata": {},
   "outputs": [],
   "source": [
    "i = 0\n",
    "id = 1\n",
    "text = '--migrate:up \\n\\n'\n",
    "\n",
    "while(i<100):\n",
    "    i=i+1\n",
    "    id_tarjeta_corredor2 = random.randint(1, 100)\n",
    "    text += f\"INSERT INTO tarjetas_general (id, id_tarjeta_corredor) VALUES ({id}, {id_tarjeta_corredor2});\\n\"\n",
    "    id = id + 1\n",
    "text += '\\n--migrate:down \\n\\nDELETE FROM tarjetas_general;'\n",
    "\n",
    "with open('inserts_tarjetas_general.sql', 'w', encoding=\"utf-8\") as archivo:\n",
    "    archivo.write(text)"
   ]
  },
  {
   "cell_type": "markdown",
   "id": "6eca4d33",
   "metadata": {},
   "source": [
    "Inserccion app billeteras digitales"
   ]
  },
  {
   "cell_type": "code",
   "execution_count": null,
   "id": "83378429",
   "metadata": {},
   "outputs": [],
   "source": [
    "i = 0\n",
    "id = 1\n",
    "text = '--migrate:up \\n\\n'\n",
    "\n",
    "while(i<100):\n",
    "    i=i+1\n",
    "    id_metodo_pago = random.randint(1, 100)\n",
    "    id_nombre_app_billetera_digital = random.randint(1, 2)  \n",
    "    text += f\"INSERT INTO app_billeteras_digitales (id, id_metodo_pago, id_nombre_app_billetera_digital) VALUES ({id}, {id_metodo_pago}, {id_nombre_app_billetera_digital});\\n\"\n",
    "    id = id + 1\n",
    "text += '\\n--migrate:down \\n\\nDELETE FROM app_billeteras_digitales;'\n",
    "\n",
    "with open('inserts_app_billeteras_digitales.sql', 'w', encoding=\"utf-8\") as archivo:\n",
    "    archivo.write(text)"
   ]
  },
  {
   "cell_type": "markdown",
   "id": "7d31d8be",
   "metadata": {},
   "source": [
    "Inserccion tarjeta"
   ]
  },
  {
   "cell_type": "code",
   "execution_count": 14,
   "id": "25571e26",
   "metadata": {},
   "outputs": [],
   "source": [
    "i = 0\n",
    "id = 1\n",
    "text = '--migrate:up \\n\\n'\n",
    "\n",
    "while(i<100):\n",
    "    i=i+1\n",
    "    numero_tarjeta = fake.credit_card_number()\n",
    "    fecha_caducidad = fake.credit_card_expire()\n",
    "    cvv = fake.credit_card_security_code()\n",
    "    nombre_titular = fake.name()\n",
    "    id_metodo_pago2 = random.randint(1, 100)\n",
    "    id_red_pago = random.randint(1, 4)  \n",
    "    text += f\"INSERT INTO tarjetas (id, numero_tarjeta, fecha_caducidad, cvv, nombre_titular, id_metodo_pago, id_red_pago) VALUES ({id}, {numero_tarjeta},{fecha_caducidad}, {cvv}, '{nombre_titular}', {id_metodo_pago2}, {id_red_pago});\\n\"\n",
    "    id = id + 1\n",
    "text += '\\n--migrate:down \\n\\nDELETE FROM tarjetas;'\n",
    "\n",
    "with open('inserts_tarjetas.sql', 'w', encoding=\"utf-8\") as archivo:\n",
    "    archivo.write(text)"
   ]
  },
  {
   "cell_type": "markdown",
   "id": "50803432",
   "metadata": {},
   "source": [
    "Inserccion de viajes"
   ]
  },
  {
   "cell_type": "code",
   "execution_count": 4,
   "id": "0331955b",
   "metadata": {},
   "outputs": [],
   "source": [
    "i = 0\n",
    "id = 1\n",
    "text = '--migrate:up \\n\\n'\n",
    "\n",
    "while(i<100):\n",
    "    i=i+1\n",
    "    fecha = fake.date_this_year()\n",
    "    inicial_estacion = random.randint(1, 100)\n",
    "    final_estacion = random.randint(1,100)\n",
    "    perfil_id =random.randint(1,100)\n",
    "    text += f\"INSERT INTO viajes (id, fecha, final_estacion_id, inicial_estacion_id,perfil_id) VALUES ({id}, {fecha},{final_estacion}, {inicial_estacion},{perfil_id});\\n\"\n",
    "    id = id + 1\n",
    "text += '\\n--migrate:down \\n\\nDELETE FROM viajes;'\n",
    "\n",
    "with open('inserts_viajes.sql', 'w', encoding=\"utf-8\") as archivo:\n",
    "    archivo.write(text)"
   ]
  }
 ],
 "metadata": {
  "kernelspec": {
   "display_name": "Python 3",
   "language": "python",
   "name": "python3"
  },
  "language_info": {
   "codemirror_mode": {
    "name": "ipython",
    "version": 3
   },
   "file_extension": ".py",
   "mimetype": "text/x-python",
   "name": "python",
   "nbconvert_exporter": "python",
   "pygments_lexer": "ipython3",
   "version": "3.13.4"
  }
 },
 "nbformat": 4,
 "nbformat_minor": 5
}
