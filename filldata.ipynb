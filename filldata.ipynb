{
 "cells": [
  {
   "cell_type": "markdown",
   "id": "4d790bc0",
   "metadata": {},
   "source": [
    "# Generacion de scripts para llenado de datos en las tablas "
   ]
  },
  {
   "cell_type": "markdown",
   "id": "3460b45e",
   "metadata": {},
   "source": [
    "## llenar tabla"
   ]
  },
  {
   "cell_type": "code",
   "execution_count": 1,
   "id": "7a424e78",
   "metadata": {},
   "outputs": [],
   "source": [
    "import pandas as pd\n",
    "import numpy as np\n",
    "import faker\n",
    "from faker import Faker\n",
    "from database import Database\n",
    "\n",
    "db = Database()"
   ]
  },
  {
   "cell_type": "markdown",
   "id": "6558649a",
   "metadata": {},
   "source": [
    "Alumnos nuevos con faker"
   ]
  },
  {
   "cell_type": "code",
   "execution_count": 2,
   "id": "74795763",
   "metadata": {},
   "outputs": [],
   "source": [
    "fake = Faker('es_ES')\n",
    "i = 0\n",
    "id = 1\n",
    "text = '--migrate:up \\n\\n'\n",
    "\n",
    "while(i<100):\n",
    "    i=i+1\n",
    "    codigo = fake.bothify(text='########')\n",
    "    text += f\"INSERT INTO alumnos (id, código) VALUES ({id}, {codigo});\\n\"\n",
    "    id = id+1\n",
    "\n",
    "text += '\\n--migrate:down \\n\\nDELETE FROM posiciones;'\n",
    "\n",
    "with open('inserts_alumnos.sql', 'w', encoding=\"utf-8\") as archivo:\n",
    "    archivo.write(text)"
   ]
  },
  {
   "cell_type": "markdown",
   "id": "877e26a3",
   "metadata": {},
   "source": [
    "Creacion de distritos"
   ]
  },
  {
   "cell_type": "code",
   "execution_count": 9,
   "id": "22335f8c",
   "metadata": {},
   "outputs": [],
   "source": [
    "id = 1\n",
    "text = '--migrate:up \\n\\n'\n",
    "dicc_distritos = [\"Ancón\", \"Ate\", \"Barranco\", \"Breña\", \"Carabayllo\", \"Chaclacayo\", \"Chorrillos\", \"Cieneguilla\", \"Comas\", \"El Agustino\", \"Independencia\", \"Jesús María\",\n",
    "                  \"La Molina\", \"La Victoria\", \"Lince\", \"Los Olivos\", \"Lurigancho\", \"Lurín\", \"Magdalena del Mar\", \"Miraflores\", \"Pachacámac\", \"Pucusana\", \"Pueblo Libre\",\n",
    "                  \"Puente Piedra\", \"Punta Hermosa\", \"Punta Negra\", \"Rímac\", \"San Bartolo\", \"San Borja\", \"San Isidro\", \"San Juan de Lurigancho\", \"San Juan de Miraflores\",\n",
    "                  \"San Luis\", \"San Martín de Porres\", \"San Miguel\", \"Santa Anita\", \"Santa María del Mar\", \"Santa Rosa\", \"Santiago de Surco\", \"Surquillo\", \"Villa El Salvador\",\n",
    "                  \"Villa María del Triunfo\"]\n",
    "\n",
    "for nombre in dicc_distritos:\n",
    "    text += f\"INSERT INTO distritos (id, nombre) VALUES ({id}, '{nombre}');\\n\"\n",
    "    id += 1\n",
    "\n",
    "text += '\\n--migrate:down \\n\\nDELETE FROM distritos;'\n",
    "\n",
    "with open('inserts_distritos.sql', 'w', encoding=\"utf-8\") as archivo:\n",
    "    archivo.write(text)\n"
   ]
  },
  {
   "cell_type": "markdown",
   "id": "c481c87d",
   "metadata": {},
   "source": [
    "Creacion de notificaciones"
   ]
  },
  {
   "cell_type": "code",
   "execution_count": 17,
   "id": "70377265",
   "metadata": {},
   "outputs": [],
   "source": [
    "i = 0\n",
    "id = 1\n",
    "text = '--migrate:up \\n\\n'\n",
    "\n",
    "while(i<5):\n",
    "    i=i+1\n",
    "    valor_booleano = fake.boolean() \n",
    "    nombre_notificaciones = fake.sentence(nb_words=4)\n",
    "    text += f\"INSERT INTO notificaciones (id, estado, nombre) VALUES ({id}, {valor_booleano}, {nombre_notificaciones});\\n\"\n",
    "    id = id+1\n",
    "\n",
    "text += '\\n--migrate:down \\n\\nDELETE FROM notificaciones;'\n",
    "\n",
    "with open('inserts_notificaciones.sql', 'w', encoding=\"utf-8\") as archivo:\n",
    "    archivo.write(text)\n"
   ]
  },
  {
   "cell_type": "markdown",
   "id": "a775e550",
   "metadata": {},
   "source": [
    "Creacion redes_de_pago"
   ]
  },
  {
   "cell_type": "code",
   "execution_count": null,
   "id": "bc5a2bbf",
   "metadata": {},
   "outputs": [],
   "source": [
    "id = 1\n",
    "text = '--migrate:up \\n\\n'\n",
    "dicc_bancos = [\"Visa\",\"Mastercard\",\"American Express\",\"Discover\"]\n",
    "\n",
    "for nombre in dicc_bancos:\n",
    "    text += f\"INSERT INTO red_pagos (id, nombre) VALUES ({id}, '{nombre}');\\n\"\n",
    "    id += 1\n",
    "\n",
    "text += '\\n--migrate:down \\n\\nDELETE FROM red_pagos;'\n",
    "\n",
    "with open('inserts_red_pagos.sql', 'w', encoding=\"utf-8\") as archivo:\n",
    "    archivo.write(text)"
   ]
  },
  {
   "cell_type": "markdown",
   "id": "ede2847d",
   "metadata": {},
   "source": [
    "Creacion de nombres de bancos"
   ]
  },
  {
   "cell_type": "code",
   "execution_count": 22,
   "id": "79ad8696",
   "metadata": {},
   "outputs": [],
   "source": [
    "i = 0\n",
    "id = 1\n",
    "text = '--migrate:up \\n\\n'\n",
    "\n",
    "while(i<15):\n",
    "    i=i+1\n",
    "    banco = fake.company()\n",
    "    text += f\"INSERT INTO bancos (id, nombre) VALUES ({id}, {banco});\\n\"\n",
    "    id = id+1\n",
    "\n",
    "text += '\\n--migrate:down \\n\\nDELETE FROM bancos;'\n",
    "\n",
    "with open('inserts_bancos.sql', 'w', encoding=\"utf-8\") as archivo:\n",
    "    archivo.write(text)"
   ]
  },
  {
   "cell_type": "markdown",
   "id": "583c4fd8",
   "metadata": {},
   "source": [
    "Creacion de perfiles"
   ]
  },
  {
   "cell_type": "code",
   "execution_count": 32,
   "id": "ef209280",
   "metadata": {},
   "outputs": [],
   "source": [
    "import random\n",
    "from random import randint\n",
    "i = 0\n",
    "id = 1\n",
    "text = '--migrate:up \\n\\n'\n",
    "\n",
    "while(i<100):\n",
    "    i=i+1\n",
    "    user_id = fake.bothify(text='#######')\n",
    "    celular = fake.numerify('9########')\n",
    "    celular_sin_mas= celular.replace(\"+\", \"\")\n",
    "    dni = random.randint(10000000, 99999999)\n",
    "    nombre = fake.first_name()\n",
    "    apellidos = fake.last_name()\n",
    "    fecha_nacimiento = fake.date_of_birth(minimum_age=18, maximum_age=65)\n",
    "    correo = fake.email()\n",
    "    contrasena = fake.password()\n",
    "    text += f\"INSERT INTO perfiles (id, user_id, celular, DNI, nombre, apellidos, fecha_nacimiento, correo, contraseña) VALUES ({id}, {user_id},{celular},{dni},'{nombre}','{apellidos}',{fecha_nacimiento},'{correo}','{contrasena}');\\n\"\n",
    "    id = id+1\n",
    "\n",
    "text += '\\n--migrate:down \\n\\nDELETE FROM perfiles;'\n",
    "\n",
    "with open('inserts_perfiles.sql', 'w', encoding=\"utf-8\") as archivo:\n",
    "    archivo.write(text)"
   ]
  },
  {
   "cell_type": "markdown",
   "id": "0b77ee83",
   "metadata": {},
   "source": [
    "Creacion de nombres de app billeteras digitales"
   ]
  },
  {
   "cell_type": "code",
   "execution_count": null,
   "id": "c5a6659e",
   "metadata": {},
   "outputs": [],
   "source": [
    "id = 1\n",
    "text = '--migrate:up \\n\\n'\n",
    "dicc_nombre_app_billeteras_digitales = [\"Yape\",\"Plin\"]\n",
    "\n",
    "for nombre in dicc_nombre_app_billeteras_digitales:\n",
    "    text += f\"INSERT INTO nombre_app_billeteras_digitales (id, nombre) VALUES ({id}, '{nombre}');\\n\"\n",
    "    id += 1\n",
    "\n",
    "text += '\\n--migrate:down \\n\\nDELETE FROM nombre_app_billeteras_digitales;'\n",
    "\n",
    "with open('inserts_nombre_app_billeteras_digitales.sql', 'w', encoding=\"utf-8\") as archivo:\n",
    "    archivo.write(text)"
   ]
  }
 ],
 "metadata": {
  "kernelspec": {
   "display_name": "base",
   "language": "python",
   "name": "python3"
  },
  "language_info": {
   "codemirror_mode": {
    "name": "ipython",
    "version": 3
   },
   "file_extension": ".py",
   "mimetype": "text/x-python",
   "name": "python",
   "nbconvert_exporter": "python",
   "pygments_lexer": "ipython3",
   "version": "3.12.7"
  }
 },
 "nbformat": 4,
 "nbformat_minor": 5
}
