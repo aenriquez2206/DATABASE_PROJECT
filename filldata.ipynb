{
 "cells": [
  {
   "cell_type": "markdown",
   "id": "4d790bc0",
   "metadata": {},
   "source": [
    "# Generacion de scripts para llenado de datos en las tablas "
   ]
  },
  {
   "cell_type": "markdown",
   "id": "3460b45e",
   "metadata": {},
   "source": [
    "## llenar tabla"
   ]
  },
  {
   "cell_type": "code",
   "execution_count": 1,
   "id": "7a424e78",
   "metadata": {},
   "outputs": [],
   "source": [
    "import pandas as pd\n",
    "import numpy as np\n",
    "import faker\n",
    "from faker import Faker\n",
    "from database import Database\n",
    "\n",
    "db = Database()"
   ]
  },
  {
   "cell_type": "markdown",
   "id": "6558649a",
   "metadata": {},
   "source": [
    "Alumnos nuevos con faker"
   ]
  },
  {
   "cell_type": "code",
   "execution_count": null,
   "id": "74795763",
   "metadata": {},
   "outputs": [],
   "source": [
    "fake = Faker('es_ES')\n",
    "i = 0\n",
    "id = 1\n",
    "text = '--migrate:up \\n\\n'\n",
    "\n",
    "while(i<100):\n",
    "    i=i+1\n",
    "    codigo = fake.bothify(text='########')\n",
    "    text += f\"INSERT INTO alumnos (id, código) VALUES ({id}, {codigo});\\n\"\n",
    "    id = id+1\n",
    "\n",
    "text += '\\n--migrate:down \\n\\nDELETE FROM posiciones;'\n",
    "\n",
    "with open('inserts_alumnos.sql', 'w', encoding=\"utf-8\") as archivo:\n",
    "    archivo.write(text)"
   ]
  }
 ],
 "metadata": {
  "kernelspec": {
   "display_name": "base",
   "language": "python",
   "name": "python3"
  },
  "language_info": {
   "codemirror_mode": {
    "name": "ipython",
    "version": 3
   },
   "file_extension": ".py",
   "mimetype": "text/x-python",
   "name": "python",
   "nbconvert_exporter": "python",
   "pygments_lexer": "ipython3",
   "version": "3.12.7"
  }
 },
 "nbformat": 4,
 "nbformat_minor": 5
}
